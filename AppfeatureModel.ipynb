{
 "cells": [
  {
   "cell_type": "code",
   "execution_count": 4,
   "metadata": {},
   "outputs": [
    {
     "name": "stdout",
     "output_type": "stream",
     "text": [
      "Model trained and saved successfully without 'Person ID'.\n"
     ]
    },
    {
     "name": "stderr",
     "output_type": "stream",
     "text": [
      "C:\\Users\\Sanskar\\AppData\\Local\\Temp\\ipykernel_22364\\2486879556.py:18: FutureWarning: A value is trying to be set on a copy of a DataFrame or Series through chained assignment using an inplace method.\n",
      "The behavior will change in pandas 3.0. This inplace method will never work because the intermediate object on which we are setting values always behaves as a copy.\n",
      "\n",
      "For example, when doing 'df[col].method(value, inplace=True)', try using 'df.method({col: value}, inplace=True)' or df[col] = df[col].method(value) instead, to perform the operation inplace on the original object.\n",
      "\n",
      "\n",
      "  df['Sleep Disorder'].fillna('None', inplace=True)\n"
     ]
    },
    {
     "data": {
      "text/plain": [
       "['feature_columns.pkl']"
      ]
     },
     "execution_count": 4,
     "metadata": {},
     "output_type": "execute_result"
    }
   ],
   "source": [
    "# Step 1: Import Libraries\n",
    "import pandas as pd\n",
    "import numpy as np\n",
    "from sklearn.model_selection import train_test_split\n",
    "from sklearn.ensemble import RandomForestClassifier\n",
    "from sklearn.preprocessing import LabelEncoder\n",
    "import joblib\n",
    "\n",
    "# Step 2: Load Dataset\n",
    "df = pd.read_csv(\"Sleep_health_and_lifestyle_dataset.csv\")\n",
    "\n",
    "# Step 3: Clean & Preprocess Data\n",
    "\n",
    "# Remove non-informative ID column\n",
    "df.drop('Person ID', axis=1, inplace=True)\n",
    "\n",
    "# Replace missing sleep disorder values with 'None'\n",
    "df['Sleep Disorder'].fillna('None', inplace=True)\n",
    "\n",
    "# Split 'Blood Pressure' into systolic and diastolic\n",
    "df['systolic_bp'] = df['Blood Pressure'].apply(lambda x: int(x.split('/')[0]))\n",
    "df['diastolic_bp'] = df['Blood Pressure'].apply(lambda x: int(x.split('/')[1]))\n",
    "df.drop('Blood Pressure', axis=1, inplace=True)\n",
    "\n",
    "# Standardize BMI category text\n",
    "df['BMI Category'] = df['BMI Category'].replace('Normal Weight', 'Normal')\n",
    "\n",
    "# Label encode categorical features\n",
    "label_columns = ['Gender', 'Occupation', 'BMI Category', 'Sleep Disorder']\n",
    "le = LabelEncoder()\n",
    "for col in label_columns:\n",
    "    df[col] = le.fit_transform(df[col])\n",
    "\n",
    "# Step 4: Prepare Training Data\n",
    "X = df.drop('Sleep Disorder', axis=1)\n",
    "y = df['Sleep Disorder']\n",
    "\n",
    "# Step 5: Split into Training & Testing Sets\n",
    "X_train, X_test, y_train, y_test = train_test_split(X, y, test_size=0.3, random_state=42)\n",
    "\n",
    "# Step 6: Train Random Forest Classifier\n",
    "rfc = RandomForestClassifier(n_estimators=100, random_state=42)\n",
    "rfc.fit(X_train, y_train)\n",
    "\n",
    "# Step 7: Save Model & Feature Columns\n",
    "joblib.dump(rfc, \"sleep_disorder_model.pkl\")\n",
    "joblib.dump(X.columns.tolist(), \"feature_columns.pkl\")\n",
    "\n",
    "print(\"Model trained and saved successfully without 'Person ID'.\")\n",
    "\n",
    "joblib.dump(X.columns.tolist(), \"feature_columns.pkl\")\n"
   ]
  },
  {
   "cell_type": "code",
   "execution_count": 3,
   "metadata": {},
   "outputs": [
    {
     "data": {
      "text/plain": [
       "['feature_columns.pkl']"
      ]
     },
     "execution_count": 3,
     "metadata": {},
     "output_type": "execute_result"
    }
   ],
   "source": [
    "import joblib\n",
    "\n",
    "# Save feature column names after training\n",
    "joblib.dump(X.columns.tolist(), \"feature_columns.pkl\")\n"
   ]
  }
 ],
 "metadata": {
  "kernelspec": {
   "display_name": "Python 3",
   "language": "python",
   "name": "python3"
  },
  "language_info": {
   "codemirror_mode": {
    "name": "ipython",
    "version": 3
   },
   "file_extension": ".py",
   "mimetype": "text/x-python",
   "name": "python",
   "nbconvert_exporter": "python",
   "pygments_lexer": "ipython3",
   "version": "3.13.2"
  }
 },
 "nbformat": 4,
 "nbformat_minor": 2
}
