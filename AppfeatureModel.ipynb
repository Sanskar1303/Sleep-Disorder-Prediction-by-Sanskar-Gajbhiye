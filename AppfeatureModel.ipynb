{
 "cells": [
  {
   "cell_type": "code",
   "execution_count": 10,
   "metadata": {},
   "outputs": [
    {
     "name": "stdout",
     "output_type": "stream",
     "text": [
      "✅ Model trained and saved successfully.\n"
     ]
    }
   ],
   "source": [
    "# Import Libraries\n",
    "import pandas as pd\n",
    "import numpy as np\n",
    "from sklearn.model_selection import train_test_split\n",
    "from sklearn.ensemble import RandomForestClassifier\n",
    "from sklearn.preprocessing import LabelEncoder\n",
    "from sklearn.utils import resample\n",
    "import joblib\n",
    "\n",
    "# Load Dataset\n",
    "df = pd.read_csv(\"Sleep_health_and_lifestyle_dataset.csv\")\n",
    "\n",
    "# Drop non-informative ID column\n",
    "df.drop('Person ID', axis=1, inplace=True)\n",
    "\n",
    "# Fix fillna warning\n",
    "df['Sleep Disorder'] = df['Sleep Disorder'].fillna('None')\n",
    "\n",
    "# Split Blood Pressure into two columns\n",
    "df['systolic_bp'] = df['Blood Pressure'].apply(lambda x: int(x.split('/')[0]))\n",
    "df['diastolic_bp'] = df['Blood Pressure'].apply(lambda x: int(x.split('/')[1]))\n",
    "df.drop('Blood Pressure', axis=1, inplace=True)\n",
    "\n",
    "# Clean BMI category\n",
    "df['BMI Category'] = df['BMI Category'].replace('Normal Weight', 'Normal')\n",
    "\n",
    "# Encode categorical variables\n",
    "label_columns = ['Gender', 'Occupation', 'BMI Category', 'Sleep Disorder']\n",
    "le = LabelEncoder()\n",
    "for col in label_columns:\n",
    "    df[col] = le.fit_transform(df[col])\n",
    "\n",
    "# Balance classes\n",
    "df_class_0 = df[df['Sleep Disorder'] == 0]\n",
    "df_class_1 = df[df['Sleep Disorder'] == 1]\n",
    "df_class_2 = df[df['Sleep Disorder'] == 2]\n",
    "\n",
    "max_size = df_class_1.shape[0]\n",
    "df_class_0_up = resample(df_class_0, replace=True, n_samples=max_size, random_state=42)\n",
    "df_class_2_up = resample(df_class_2, replace=True, n_samples=max_size, random_state=42)\n",
    "\n",
    "df_balanced = pd.concat([df_class_1, df_class_0_up, df_class_2_up])\n",
    "df_balanced = df_balanced.sample(frac=1, random_state=42)\n",
    "\n",
    "# Train/Test Split\n",
    "X = df_balanced.drop('Sleep Disorder', axis=1)\n",
    "y = df_balanced['Sleep Disorder']\n",
    "X_train, X_test, y_train, y_test = train_test_split(X, y, test_size=0.3, random_state=42)\n",
    "\n",
    "# Train Model\n",
    "rfc = RandomForestClassifier(n_estimators=100, random_state=42)\n",
    "rfc.fit(X_train, y_train)\n",
    "\n",
    "# Save Model and Files\n",
    "joblib.dump(rfc, \"sleep_disorder_model.pkl\")\n",
    "joblib.dump(X.columns.tolist(), \"feature_columns.pkl\")\n",
    "joblib.dump(le, \"label_encoder.pkl\")\n",
    "\n",
    "print(\"✅ Model trained and saved successfully.\")\n"
   ]
  }
 ],
 "metadata": {
  "kernelspec": {
   "display_name": "Python 3",
   "language": "python",
   "name": "python3"
  },
  "language_info": {
   "codemirror_mode": {
    "name": "ipython",
    "version": 3
   },
   "file_extension": ".py",
   "mimetype": "text/x-python",
   "name": "python",
   "nbconvert_exporter": "python",
   "pygments_lexer": "ipython3",
   "version": "3.13.2"
  }
 },
 "nbformat": 4,
 "nbformat_minor": 2
}
